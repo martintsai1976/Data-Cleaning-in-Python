{
 "cells": [
  {
   "cell_type": "markdown",
   "metadata": {},
   "source": [
    "### Import libraries"
   ]
  },
  {
   "cell_type": "code",
   "execution_count": 1,
   "metadata": {},
   "outputs": [],
   "source": [
    "import pandas as pd"
   ]
  },
  {
   "cell_type": "markdown",
   "metadata": {},
   "source": [
    "### Data exploration"
   ]
  },
  {
   "cell_type": "code",
   "execution_count": 2,
   "metadata": {
    "scrolled": true
   },
   "outputs": [
    {
     "data": {
      "text/html": [
       "<div>\n",
       "<style scoped>\n",
       "    .dataframe tbody tr th:only-of-type {\n",
       "        vertical-align: middle;\n",
       "    }\n",
       "\n",
       "    .dataframe tbody tr th {\n",
       "        vertical-align: top;\n",
       "    }\n",
       "\n",
       "    .dataframe thead th {\n",
       "        text-align: right;\n",
       "    }\n",
       "</style>\n",
       "<table border=\"1\" class=\"dataframe\">\n",
       "  <thead>\n",
       "    <tr style=\"text-align: right;\">\n",
       "      <th></th>\n",
       "      <th>A</th>\n",
       "      <th>B</th>\n",
       "      <th>C</th>\n",
       "      <th>D</th>\n",
       "      <th>E</th>\n",
       "      <th>F</th>\n",
       "      <th>G</th>\n",
       "    </tr>\n",
       "  </thead>\n",
       "  <tbody>\n",
       "    <tr>\n",
       "      <th>0</th>\n",
       "      <td>1614227020-5916</td>\n",
       "      <td>https://www.amazon.com/s?k=Portable+Bluetooth+...</td>\n",
       "      <td>ELEGIANT Home Audio Speakers LED bluetooth spe...</td>\n",
       "      <td>https://www.amazon.com/Bluetooth-ELEGIANT-Wire...</td>\n",
       "      <td>See all reviews</td>\n",
       "      <td>https://www.amazon.com/Bluetooth-ELEGIANT-Wire...</td>\n",
       "      <td>121 global ratings | 48 global reviews</td>\n",
       "    </tr>\n",
       "    <tr>\n",
       "      <th>1</th>\n",
       "      <td>1614224585-5454</td>\n",
       "      <td>https://www.amazon.com/s?k=Portable+Bluetooth+...</td>\n",
       "      <td>iLive iHB603B Wireless Bluetooth Speaker Syste...</td>\n",
       "      <td>https://www.amazon.com/iLive-iHB603B-Wireless-...</td>\n",
       "      <td>See all reviews</td>\n",
       "      <td>https://www.amazon.com/iLive-iHB603B-Wireless-...</td>\n",
       "      <td>853 global ratings | 748 global reviews</td>\n",
       "    </tr>\n",
       "    <tr>\n",
       "      <th>2</th>\n",
       "      <td>1614223590-5267</td>\n",
       "      <td>https://www.amazon.com/s?k=Portable+Bluetooth+...</td>\n",
       "      <td>Simple Living Technology Stickup Original Wate...</td>\n",
       "      <td>https://www.amazon.com/Simple-Living-Technolog...</td>\n",
       "      <td>See all reviews</td>\n",
       "      <td>https://www.amazon.com/Simple-Living-Technolog...</td>\n",
       "      <td>27 global ratings | 23 global reviews</td>\n",
       "    </tr>\n",
       "  </tbody>\n",
       "</table>\n",
       "</div>"
      ],
      "text/plain": [
       "                 A                                                  B  \\\n",
       "0  1614227020-5916  https://www.amazon.com/s?k=Portable+Bluetooth+...   \n",
       "1  1614224585-5454  https://www.amazon.com/s?k=Portable+Bluetooth+...   \n",
       "2  1614223590-5267  https://www.amazon.com/s?k=Portable+Bluetooth+...   \n",
       "\n",
       "                                                   C  \\\n",
       "0  ELEGIANT Home Audio Speakers LED bluetooth spe...   \n",
       "1  iLive iHB603B Wireless Bluetooth Speaker Syste...   \n",
       "2  Simple Living Technology Stickup Original Wate...   \n",
       "\n",
       "                                                   D                E  \\\n",
       "0  https://www.amazon.com/Bluetooth-ELEGIANT-Wire...  See all reviews   \n",
       "1  https://www.amazon.com/iLive-iHB603B-Wireless-...  See all reviews   \n",
       "2  https://www.amazon.com/Simple-Living-Technolog...  See all reviews   \n",
       "\n",
       "                                                   F  \\\n",
       "0  https://www.amazon.com/Bluetooth-ELEGIANT-Wire...   \n",
       "1  https://www.amazon.com/iLive-iHB603B-Wireless-...   \n",
       "2  https://www.amazon.com/Simple-Living-Technolog...   \n",
       "\n",
       "                                         G  \n",
       "0   121 global ratings | 48 global reviews  \n",
       "1  853 global ratings | 748 global reviews  \n",
       "2    27 global ratings | 23 global reviews  "
      ]
     },
     "execution_count": 2,
     "metadata": {},
     "output_type": "execute_result"
    }
   ],
   "source": [
    "df = pd.read_csv('df.csv')\n",
    "df.head(3)"
   ]
  },
  {
   "cell_type": "markdown",
   "metadata": {},
   "source": [
    "### Drop useless columns"
   ]
  },
  {
   "cell_type": "code",
   "execution_count": 3,
   "metadata": {},
   "outputs": [
    {
     "data": {
      "text/html": [
       "<div>\n",
       "<style scoped>\n",
       "    .dataframe tbody tr th:only-of-type {\n",
       "        vertical-align: middle;\n",
       "    }\n",
       "\n",
       "    .dataframe tbody tr th {\n",
       "        vertical-align: top;\n",
       "    }\n",
       "\n",
       "    .dataframe thead th {\n",
       "        text-align: right;\n",
       "    }\n",
       "</style>\n",
       "<table border=\"1\" class=\"dataframe\">\n",
       "  <thead>\n",
       "    <tr style=\"text-align: right;\">\n",
       "      <th></th>\n",
       "      <th>C</th>\n",
       "      <th>G</th>\n",
       "    </tr>\n",
       "  </thead>\n",
       "  <tbody>\n",
       "    <tr>\n",
       "      <th>0</th>\n",
       "      <td>ELEGIANT Home Audio Speakers LED bluetooth spe...</td>\n",
       "      <td>121 global ratings | 48 global reviews</td>\n",
       "    </tr>\n",
       "    <tr>\n",
       "      <th>1</th>\n",
       "      <td>iLive iHB603B Wireless Bluetooth Speaker Syste...</td>\n",
       "      <td>853 global ratings | 748 global reviews</td>\n",
       "    </tr>\n",
       "    <tr>\n",
       "      <th>2</th>\n",
       "      <td>Simple Living Technology Stickup Original Wate...</td>\n",
       "      <td>27 global ratings | 23 global reviews</td>\n",
       "    </tr>\n",
       "  </tbody>\n",
       "</table>\n",
       "</div>"
      ],
      "text/plain": [
       "                                                   C  \\\n",
       "0  ELEGIANT Home Audio Speakers LED bluetooth spe...   \n",
       "1  iLive iHB603B Wireless Bluetooth Speaker Syste...   \n",
       "2  Simple Living Technology Stickup Original Wate...   \n",
       "\n",
       "                                         G  \n",
       "0   121 global ratings | 48 global reviews  \n",
       "1  853 global ratings | 748 global reviews  \n",
       "2    27 global ratings | 23 global reviews  "
      ]
     },
     "execution_count": 3,
     "metadata": {},
     "output_type": "execute_result"
    }
   ],
   "source": [
    "# Drop useless columns\n",
    "df = df.drop(columns=['A', 'B', 'D', 'E', 'F'])\n",
    "df = df[['C', 'G']]\n",
    "df.head(3)"
   ]
  },
  {
   "cell_type": "markdown",
   "metadata": {},
   "source": [
    "### Drop missing/duplicate values"
   ]
  },
  {
   "cell_type": "code",
   "execution_count": 4,
   "metadata": {},
   "outputs": [
    {
     "data": {
      "text/plain": [
       "(2345, 2)"
      ]
     },
     "execution_count": 4,
     "metadata": {},
     "output_type": "execute_result"
    }
   ],
   "source": [
    "# Drop missing values\n",
    "df = df.dropna()\n",
    "\n",
    "# Drop duplicate values\n",
    "df = df.drop_duplicates(subset=['C'])\n",
    "\n",
    "df.shape"
   ]
  },
  {
   "cell_type": "markdown",
   "metadata": {},
   "source": [
    "### Split one column into multiple columns"
   ]
  },
  {
   "cell_type": "code",
   "execution_count": 5,
   "metadata": {},
   "outputs": [
    {
     "data": {
      "text/html": [
       "<div>\n",
       "<style scoped>\n",
       "    .dataframe tbody tr th:only-of-type {\n",
       "        vertical-align: middle;\n",
       "    }\n",
       "\n",
       "    .dataframe tbody tr th {\n",
       "        vertical-align: top;\n",
       "    }\n",
       "\n",
       "    .dataframe thead th {\n",
       "        text-align: right;\n",
       "    }\n",
       "</style>\n",
       "<table border=\"1\" class=\"dataframe\">\n",
       "  <thead>\n",
       "    <tr style=\"text-align: right;\">\n",
       "      <th></th>\n",
       "      <th>C</th>\n",
       "      <th>number_of_ratings</th>\n",
       "      <th>number_of_reviews</th>\n",
       "    </tr>\n",
       "  </thead>\n",
       "  <tbody>\n",
       "    <tr>\n",
       "      <th>0</th>\n",
       "      <td>ELEGIANT Home Audio Speakers LED bluetooth spe...</td>\n",
       "      <td>121</td>\n",
       "      <td>48</td>\n",
       "    </tr>\n",
       "    <tr>\n",
       "      <th>1</th>\n",
       "      <td>iLive iHB603B Wireless Bluetooth Speaker Syste...</td>\n",
       "      <td>853</td>\n",
       "      <td>748</td>\n",
       "    </tr>\n",
       "    <tr>\n",
       "      <th>2</th>\n",
       "      <td>Simple Living Technology Stickup Original Wate...</td>\n",
       "      <td>27</td>\n",
       "      <td>23</td>\n",
       "    </tr>\n",
       "  </tbody>\n",
       "</table>\n",
       "</div>"
      ],
      "text/plain": [
       "                                                   C number_of_ratings  \\\n",
       "0  ELEGIANT Home Audio Speakers LED bluetooth spe...               121   \n",
       "1  iLive iHB603B Wireless Bluetooth Speaker Syste...               853   \n",
       "2  Simple Living Technology Stickup Original Wate...                27   \n",
       "\n",
       "  number_of_reviews  \n",
       "0                48  \n",
       "1               748  \n",
       "2                23  "
      ]
     },
     "execution_count": 5,
     "metadata": {},
     "output_type": "execute_result"
    }
   ],
   "source": [
    "# Split column G into two sperate columns\n",
    "df['number_of_ratings'] = df['G'].str.rsplit(' | ').str[0]\n",
    "df['number_of_reviews'] = df['G'].str.rsplit(' | ').str[-1]\n",
    "\n",
    "# Remove the words 'global ratings' and 'global reviews'\n",
    "df['number_of_ratings'] = df['number_of_ratings'].str.replace(' global ratings', '')\n",
    "df['number_of_reviews'] = df['number_of_reviews'].str.replace(' global reviews', '')\n",
    "\n",
    "# Remove comma between numbers\n",
    "df['number_of_ratings'] = df['number_of_ratings'].str.replace(',', '')\n",
    "df['number_of_reviews'] = df['number_of_reviews'].str.replace(',', '')\n",
    "\n",
    "# Drop original columns\n",
    "df = df.drop(columns='G')\n",
    "\n",
    "df.head(3)"
   ]
  },
  {
   "cell_type": "markdown",
   "metadata": {},
   "source": [
    "### Rename columns"
   ]
  },
  {
   "cell_type": "code",
   "execution_count": 6,
   "metadata": {},
   "outputs": [
    {
     "data": {
      "text/html": [
       "<div>\n",
       "<style scoped>\n",
       "    .dataframe tbody tr th:only-of-type {\n",
       "        vertical-align: middle;\n",
       "    }\n",
       "\n",
       "    .dataframe tbody tr th {\n",
       "        vertical-align: top;\n",
       "    }\n",
       "\n",
       "    .dataframe thead th {\n",
       "        text-align: right;\n",
       "    }\n",
       "</style>\n",
       "<table border=\"1\" class=\"dataframe\">\n",
       "  <thead>\n",
       "    <tr style=\"text-align: right;\">\n",
       "      <th></th>\n",
       "      <th>product_name</th>\n",
       "      <th>number_of_ratings</th>\n",
       "      <th>number_of_reviews</th>\n",
       "    </tr>\n",
       "  </thead>\n",
       "  <tbody>\n",
       "    <tr>\n",
       "      <th>0</th>\n",
       "      <td>ELEGIANT Home Audio Speakers LED bluetooth spe...</td>\n",
       "      <td>121</td>\n",
       "      <td>48</td>\n",
       "    </tr>\n",
       "    <tr>\n",
       "      <th>1</th>\n",
       "      <td>iLive iHB603B Wireless Bluetooth Speaker Syste...</td>\n",
       "      <td>853</td>\n",
       "      <td>748</td>\n",
       "    </tr>\n",
       "    <tr>\n",
       "      <th>2</th>\n",
       "      <td>Simple Living Technology Stickup Original Wate...</td>\n",
       "      <td>27</td>\n",
       "      <td>23</td>\n",
       "    </tr>\n",
       "  </tbody>\n",
       "</table>\n",
       "</div>"
      ],
      "text/plain": [
       "                                        product_name number_of_ratings  \\\n",
       "0  ELEGIANT Home Audio Speakers LED bluetooth spe...               121   \n",
       "1  iLive iHB603B Wireless Bluetooth Speaker Syste...               853   \n",
       "2  Simple Living Technology Stickup Original Wate...                27   \n",
       "\n",
       "  number_of_reviews  \n",
       "0                48  \n",
       "1               748  \n",
       "2                23  "
      ]
     },
     "execution_count": 6,
     "metadata": {},
     "output_type": "execute_result"
    }
   ],
   "source": [
    "# Rename columns\n",
    "df = df.rename(columns={'C': 'product_name'})\n",
    "\n",
    "df.head(3)"
   ]
  }
 ],
 "metadata": {
  "kernelspec": {
   "display_name": "Python 3",
   "language": "python",
   "name": "python3"
  },
  "language_info": {
   "codemirror_mode": {
    "name": "ipython",
    "version": 3
   },
   "file_extension": ".py",
   "mimetype": "text/x-python",
   "name": "python",
   "nbconvert_exporter": "python",
   "pygments_lexer": "ipython3",
   "version": "3.8.5"
  }
 },
 "nbformat": 4,
 "nbformat_minor": 4
}
